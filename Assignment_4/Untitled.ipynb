{
 "cells": [
  {
   "cell_type": "code",
   "execution_count": 45,
   "id": "0b58ad04-0be9-4ae9-85da-72e93fc8914c",
   "metadata": {},
   "outputs": [
    {
     "name": "stdin",
     "output_type": "stream",
     "text": [
      " 2\n",
      " 1\n",
      " 2\n",
      " 3\n",
      " 3\n"
     ]
    },
    {
     "name": "stdout",
     "output_type": "stream",
     "text": [
      "The Accurate list is .. [2, 1, 2, 3, 3]\n",
      "The Alternative list is 2\n",
      "The Alternative list is 2\n",
      "The Alternative list is 3\n"
     ]
    }
   ],
   "source": [
    "#. Write a program that accepts a list from user and print the alternate element of list. \n",
    "list=[]\n",
    "n=int(input(\"Enter the of list \"))\n",
    "for i in range(n):\n",
    "    ele=int(input())\n",
    "    list.append(ele)\n",
    "print(f\"The Accurate list is .. {list}\") \n",
    "for i in range(n):\n",
    "    if i % 2 == 0:\n",
    "        print(f\"The Alternative list is {list[i]}\")"
   ]
  },
  {
   "cell_type": "code",
   "execution_count": 64,
   "id": "f60226d8-ddcd-467e-875e-5b4624985ecc",
   "metadata": {},
   "outputs": [
    {
     "name": "stdin",
     "output_type": "stream",
     "text": [
      "Enter the size of list  5\n",
      " 1\n",
      " 2\n",
      " 3\n",
      " 4\n",
      " 5\n"
     ]
    },
    {
     "name": "stdout",
     "output_type": "stream",
     "text": [
      "The Accurate list is .. [1, 2, 3, 4, 5]\n",
      "[5, 4, 3, 2, 1]\n"
     ]
    }
   ],
   "source": [
    "#Write a program that accepts a list from user. Your program should reverse the content of list and display it. Do not use reverse() method.\n",
    "list=[]\n",
    "n=int(input(\"Enter the size of list \"))\n",
    "for i in range(n):\n",
    "    ele=int(input())\n",
    "    list.append(ele)\n",
    "print(f\"The Accurate list is .. {list}\") \n",
    "\n",
    "new_list=list[::-1]\n",
    "print(new_list)"
   ]
  },
  {
   "cell_type": "code",
   "execution_count": 71,
   "id": "f24b9e71-bbba-4518-81a0-5fb19950f647",
   "metadata": {},
   "outputs": [
    {
     "name": "stdin",
     "output_type": "stream",
     "text": [
      "Enter the size of list  4\n",
      " 1\n",
      " 2\n",
      " 3\n",
      " 4\n"
     ]
    },
    {
     "name": "stdout",
     "output_type": "stream",
     "text": [
      "The Accurate list is .. [1, 2, 3, 4]\n"
     ]
    },
    {
     "ename": "TypeError",
     "evalue": "'>' not supported between instances of 'int' and 'list'",
     "output_type": "error",
     "traceback": [
      "\u001b[1;31m---------------------------------------------------------------------------\u001b[0m",
      "\u001b[1;31mTypeError\u001b[0m                                 Traceback (most recent call last)",
      "Cell \u001b[1;32mIn[71], line 9\u001b[0m\n\u001b[0;32m      7\u001b[0m \u001b[38;5;28mmax\u001b[39m\u001b[38;5;241m=\u001b[39m\u001b[38;5;28mlist\u001b[39m[\u001b[38;5;241m0\u001b[39m]\n\u001b[0;32m      8\u001b[0m \u001b[38;5;28;01mfor\u001b[39;00m num \u001b[38;5;129;01min\u001b[39;00m \u001b[38;5;28mlist\u001b[39m:\n\u001b[1;32m----> 9\u001b[0m     \u001b[38;5;28;01mif\u001b[39;00m num\u001b[38;5;241m>\u001b[39m\u001b[38;5;28mlist\u001b[39m:\n\u001b[0;32m     10\u001b[0m         \u001b[38;5;28mmax\u001b[39m\u001b[38;5;241m=\u001b[39mnum\n\u001b[0;32m     11\u001b[0m         \u001b[38;5;28mprint\u001b[39m(\u001b[38;5;28mmax\u001b[39m)\n",
      "\u001b[1;31mTypeError\u001b[0m: '>' not supported between instances of 'int' and 'list'"
     ]
    }
   ],
   "source": [
    "list=[]\n",
    "n=int(input(\"Enter the size of list \"))\n",
    "for i in range(n):\n",
    "    ele=int(input())\n",
    "    list.append(ele)\n",
    "print(f\"The Accurate list is .. {list}\") \n",
    "max=list[0]\n",
    "for num in list:\n",
    "    if num>list:\n",
    "        max=num\n",
    "        print(max)\n",
    "    \n",
    "    "
   ]
  },
  {
   "cell_type": "code",
   "execution_count": 11,
   "id": "04ce64c5-c3d1-4397-a93d-34eab9c5c498",
   "metadata": {},
   "outputs": [
    {
     "name": "stdin",
     "output_type": "stream",
     "text": [
      "How many numbers do you want to input?  3\n",
      "Enter number 1:  2278\n",
      "Enter number 2:  77777\n",
      "Enter number 3:  777887\n"
     ]
    },
    {
     "name": "stdout",
     "output_type": "stream",
     "text": [
      "The largest number in the list is: 777887.0\n"
     ]
    }
   ],
   "source": [
    "#Find and display the largest number of a list without using built-in function max(). Your program should ask the user to input values in list from keyboard. \n",
    "\n",
    "list= []\n",
    "num_count = int(input(\"How many numbers do you want to input? \"))\n",
    "for i in range(num_count):\n",
    "    number = float(input(f\"Enter number {i + 1}: \")) \n",
    "    list.append(number)\n",
    "largest_number = list[0]  \n",
    "for number in list:\n",
    "    if number > largest_number:\n",
    "        largest_number = number\n",
    "print(\"The largest number in the list is:\", largest_number)"
   ]
  },
  {
   "cell_type": "code",
   "execution_count": 14,
   "id": "4bd7d7f1-035b-4f50-ac79-c170e16045b2",
   "metadata": {},
   "outputs": [
    {
     "name": "stdin",
     "output_type": "stream",
     "text": [
      "Enter the elements of the list separated by spaces:  12345677\n"
     ]
    },
    {
     "name": "stdout",
     "output_type": "stream",
     "text": [
      "Rotated list: ['12345677']\n"
     ]
    }
   ],
   "source": [
    "#. Write a program that rotates the element of a list so that the element at the first index moves\n",
    "#to thesecond index, the element in the second index moves to the third index, etc.,\n",
    "#and the element in the lastindex moves to the first index. \n",
    "def rotate_list(lst):\n",
    "    if len(lst) == 0:\n",
    "        return lst  \n",
    "    last_element = lst[-1]\n",
    "   \n",
    "    for i in range(len(lst) - 1, 0, -1):\n",
    "        lst[i] = lst[i - 1]\n",
    "    \n",
    "    lst[0] = last_element\n",
    "    return lst\n",
    "\n",
    "\n",
    "user_input = input(\"Enter the elements of the list separated by spaces: \")\n",
    "elements = user_input.split()\n",
    "rotated_list = rotate_list(elements)\n",
    "print(\"Rotated list:\", rotated_list)"
   ]
  },
  {
   "cell_type": "code",
   "execution_count": 18,
   "id": "2750e3ac-a3c3-409f-ad17-94309921adb4",
   "metadata": {},
   "outputs": [
    {
     "name": "stdin",
     "output_type": "stream",
     "text": [
      "Enter a string:  AHMED HASSAN\n",
      "Enter the word you want to delete:  HASS\n"
     ]
    },
    {
     "name": "stdout",
     "output_type": "stream",
     "text": [
      "Modified string: AHMED HASSAN\n"
     ]
    },
    {
     "ename": "NameError",
     "evalue": "name 'words' is not defined",
     "output_type": "error",
     "traceback": [
      "\u001b[1;31m---------------------------------------------------------------------------\u001b[0m",
      "\u001b[1;31mNameError\u001b[0m                                 Traceback (most recent call last)",
      "Cell \u001b[1;32mIn[18], line 12\u001b[0m\n\u001b[0;32m      9\u001b[0m modified_string \u001b[38;5;241m=\u001b[39m remove_word_from_string(original_string, word_to_remove)\n\u001b[0;32m     11\u001b[0m \u001b[38;5;28mprint\u001b[39m(\u001b[38;5;124m\"\u001b[39m\u001b[38;5;124mModified string:\u001b[39m\u001b[38;5;124m\"\u001b[39m, modified_string)\n\u001b[1;32m---> 12\u001b[0m filtered_words \u001b[38;5;241m=\u001b[39m [word \u001b[38;5;28;01mfor\u001b[39;00m word \u001b[38;5;129;01min\u001b[39;00m words \u001b[38;5;28;01mif\u001b[39;00m word\u001b[38;5;241m.\u001b[39mlower() \u001b[38;5;241m!=\u001b[39m word_to_remove\u001b[38;5;241m.\u001b[39mlower()]\n",
      "\u001b[1;31mNameError\u001b[0m: name 'words' is not defined"
     ]
    }
   ],
   "source": [
    "#Write a program that input a string and ask user to delete a given word from a string. \n",
    "def remove_word_from_string(original_string, word_to_remove):\n",
    "    words = original_string.split()\n",
    "   \n",
    "    filtered_words = [word for word in words if word != word_to_remove]\n",
    "    return ' '.join(filtered_words)\n",
    "original_string = input(\"Enter a string: \")\n",
    "word_to_remove = input(\"Enter the word you want to delete: \")\n",
    "modified_string = remove_word_from_string(original_string, word_to_remove)\n",
    "\n",
    "print(\"Modified string:\", modified_string)\n",
    "filtered_words = [word for word in words if word.lower() != word_to_remove.lower()]"
   ]
  },
  {
   "cell_type": "code",
   "execution_count": 24,
   "id": "4d2184c6-24d1-4bab-ab54-4ed2fce1c3ba",
   "metadata": {},
   "outputs": [
    {
     "name": "stdin",
     "output_type": "stream",
     "text": [
      "Enter a date in the format mm/dd/yyyy:  08/14/2003\n"
     ]
    },
    {
     "name": "stdout",
     "output_type": "stream",
     "text": [
      "Formatted date: August 14, 2003\n"
     ]
    }
   ],
   "source": [
    "#Write a program that reads a string from the user containing a date in the form mm/dd/yyyy. It\n",
    "#should print the date in the form March 12, 2021. \n",
    "def convert_date_format(date_string):\n",
    "    month, day, year = date_string.split('/')\n",
    "    month_names = [\n",
    "        \"January\", \"February\", \"March\", \"April\", \"May\", \"June\",\n",
    "        \"July\", \"August\", \"September\", \"October\", \"November\", \"December\"\n",
    "    ]\n",
    "    month_name = month_names[int(month) - 1]\n",
    "    return f\"{month_name} {int(day)}, {year}\"\n",
    "user_input = input(\"Enter a date in the format mm/dd/yyyy: \")\n",
    "try:\n",
    "    formatted_date = convert_date_format(user_input)\n",
    "    print(\"Formatted date:\", formatted_date)\n",
    "except (ValueError, IndexError):\n",
    "    print(\"Invalid date format. Please enter the date in mm/dd/yyyy format.\")\n"
   ]
  },
  {
   "cell_type": "code",
   "execution_count": 26,
   "id": "3e5f833e-82a0-4518-9a4e-cea456a30e00",
   "metadata": {},
   "outputs": [
    {
     "name": "stdin",
     "output_type": "stream",
     "text": [
      "ENTER THE SENTENCE .... stop and smell the roses.\n"
     ]
    },
    {
     "name": "stdout",
     "output_type": "stream",
     "text": [
      "Orignal sentence is stop and smell the roses.\n",
      "Stop And Smell The Roses.\n"
     ]
    }
   ],
   "source": [
    "# Write a program with a function that accepts a string from keyboard and create a new string after\n",
    "#converting character of each word capitalized. For instance, if the sentence is \"stop and smell the roses.\"\n",
    "#the output should be \"Stop And Smell The Roses\"\n",
    "# def capitalize_words(input_string):\n",
    "#     words = input_string.split()\n",
    "#     capitalized_words = [word.capitalize() for word in words]\n",
    "#     return ' '.join(capitalized_words)\n",
    "\n",
    "\n",
    "# user_input = input(\"Enter a sentence: \")\n",
    "\n",
    "\n",
    "# result = capitalize_words(user_input)\n",
    "\n",
    "\n",
    "# print(\"Capitalized sentence:\", result)\n",
    "sen=str(input('ENTER THE SENTENCE ....'))\n",
    "print(f\"Orignal sentence is {sen}\")\n",
    "print(sen.title())"
   ]
  },
  {
   "cell_type": "code",
   "execution_count": 29,
   "id": "aac2395b-4e9d-46d3-850f-3c86844c411a",
   "metadata": {},
   "outputs": [],
   "source": [
    "#. Find the sum of each row of matrix of size m x n. For example for the following matrix output will be\n",
    "def sum_of_rows(matrix):\n",
    "    \n",
    "    row_sums = [sum(row) for row in matrix]\n",
    "    return row_sums\n",
    "\n",
    "def main():\n",
    "   \n",
    "    m = int(input(\"Enter the number of rows (m): \"))\n",
    "    n = int(input(\"Enter the number of columns (n): \"))\n",
    "    \n",
    "  \n",
    "    matrix = []\n",
    "    \n",
    "   \n",
    "    print(\"Enter the elements of the matrix row by row:\")\n",
    "    for i in range(m):\n",
    "        row = list(map(int, input(f\"Row {i + 1}: \").split()))\n",
    "        if len(row) != n:\n",
    "            print(f\"Error: Row {i + 1} must have exactly {n} elements.\")\n",
    "            return\n",
    "        matrix.append(row)\n",
    "    \n",
    "   \n",
    "    row_sums = sum_of_rows(matrix)\n",
    "    \n",
    "    \n",
    "    print(\"Sum of each row:\")\n",
    "    for i, row_sum in enumerate(row_sums):\n",
    "        print(f\"Row {i + 1}: {row_sum}\")\n"
   ]
  },
  {
   "cell_type": "code",
   "execution_count": 33,
   "id": "c79fde5f-8c0d-4ac7-86fc-94710e3ccb5f",
   "metadata": {},
   "outputs": [
    {
     "name": "stdin",
     "output_type": "stream",
     "text": [
      "Enter the number of rows for the first matrix (A):  1\n",
      "Enter the number of columns for the first matrix (A) / number of rows for the second matrix (B):  2\n",
      "Enter the number of columns for the second matrix (B):  2\n"
     ]
    },
    {
     "name": "stdout",
     "output_type": "stream",
     "text": [
      "Enter the elements of the first matrix (A) row by row:\n"
     ]
    },
    {
     "name": "stdin",
     "output_type": "stream",
     "text": [
      "Row 1:  1\n"
     ]
    },
    {
     "ename": "TypeError",
     "evalue": "'list' object is not callable",
     "output_type": "error",
     "traceback": [
      "\u001b[1;31m---------------------------------------------------------------------------\u001b[0m",
      "\u001b[1;31mTypeError\u001b[0m                                 Traceback (most recent call last)",
      "Cell \u001b[1;32mIn[33], line 56\u001b[0m\n\u001b[0;32m     53\u001b[0m         \u001b[38;5;28mprint\u001b[39m(\u001b[38;5;124m'\u001b[39m\u001b[38;5;124m \u001b[39m\u001b[38;5;124m'\u001b[39m\u001b[38;5;241m.\u001b[39mjoin(\u001b[38;5;28mmap\u001b[39m(\u001b[38;5;28mstr\u001b[39m, row)))\n\u001b[0;32m     55\u001b[0m \u001b[38;5;28;01mif\u001b[39;00m \u001b[38;5;18m__name__\u001b[39m \u001b[38;5;241m==\u001b[39m \u001b[38;5;124m\"\u001b[39m\u001b[38;5;124m__main__\u001b[39m\u001b[38;5;124m\"\u001b[39m:\n\u001b[1;32m---> 56\u001b[0m     main()\n",
      "Cell \u001b[1;32mIn[33], line 32\u001b[0m, in \u001b[0;36mmain\u001b[1;34m()\u001b[0m\n\u001b[0;32m     30\u001b[0m \u001b[38;5;28mprint\u001b[39m(\u001b[38;5;124m\"\u001b[39m\u001b[38;5;124mEnter the elements of the first matrix (A) row by row:\u001b[39m\u001b[38;5;124m\"\u001b[39m)\n\u001b[0;32m     31\u001b[0m \u001b[38;5;28;01mfor\u001b[39;00m i \u001b[38;5;129;01min\u001b[39;00m \u001b[38;5;28mrange\u001b[39m(n):\n\u001b[1;32m---> 32\u001b[0m     row \u001b[38;5;241m=\u001b[39m \u001b[38;5;28mlist\u001b[39m(\u001b[38;5;28mmap\u001b[39m(\u001b[38;5;28mint\u001b[39m, \u001b[38;5;28minput\u001b[39m(\u001b[38;5;124mf\u001b[39m\u001b[38;5;124m\"\u001b[39m\u001b[38;5;124mRow \u001b[39m\u001b[38;5;132;01m{\u001b[39;00mi\u001b[38;5;250m \u001b[39m\u001b[38;5;241m+\u001b[39m\u001b[38;5;250m \u001b[39m\u001b[38;5;241m1\u001b[39m\u001b[38;5;132;01m}\u001b[39;00m\u001b[38;5;124m: \u001b[39m\u001b[38;5;124m\"\u001b[39m)\u001b[38;5;241m.\u001b[39msplit()))\n\u001b[0;32m     33\u001b[0m     \u001b[38;5;28;01mif\u001b[39;00m \u001b[38;5;28mlen\u001b[39m(row) \u001b[38;5;241m!=\u001b[39m m:\n\u001b[0;32m     34\u001b[0m         \u001b[38;5;28mprint\u001b[39m(\u001b[38;5;124mf\u001b[39m\u001b[38;5;124m\"\u001b[39m\u001b[38;5;124mError: Row \u001b[39m\u001b[38;5;132;01m{\u001b[39;00mi\u001b[38;5;250m \u001b[39m\u001b[38;5;241m+\u001b[39m\u001b[38;5;250m \u001b[39m\u001b[38;5;241m1\u001b[39m\u001b[38;5;132;01m}\u001b[39;00m\u001b[38;5;124m must have exactly \u001b[39m\u001b[38;5;132;01m{\u001b[39;00mm\u001b[38;5;132;01m}\u001b[39;00m\u001b[38;5;124m elements.\u001b[39m\u001b[38;5;124m\"\u001b[39m)\n",
      "\u001b[1;31mTypeError\u001b[0m: 'list' object is not callable"
     ]
    }
   ],
   "source": [
    "#Write a program to multiply two matrices\n",
    "def multiply_matrices(matrix1, matrix2):\n",
    "    # Get the dimensions of the matrices\n",
    "    n = len(matrix1)        # Number of rows in matrix1\n",
    "    m = len(matrix1[0])     # Number of columns in matrix1\n",
    "    p = len(matrix2[0])     # Number of columns in matrix2\n",
    "    \n",
    "    # Initialize the result matrix with zeros\n",
    "    result_matrix = [[0 for _ in range(p)] for _ in range(n)]\n",
    "    \n",
    "    # Perform matrix multiplication\n",
    "    for i in range(n):\n",
    "        for j in range(p):\n",
    "            for k in range(m):\n",
    "                result_matrix[i][j] += matrix1[i][k] * matrix2[k][j]\n",
    "    \n",
    "    return result_matrix\n",
    "\n",
    "def main():\n",
    "    # Input the dimensions of the matrices\n",
    "    n = int(input(\"Enter the number of rows for the first matrix (A): \"))\n",
    "    m = int(input(\"Enter the number of columns for the first matrix (A) / number of rows for the second matrix (B): \"))\n",
    "    p = int(input(\"Enter the number of columns for the second matrix (B): \"))\n",
    "    \n",
    "    # Initialize the matrices\n",
    "    matrix1 = []\n",
    "    matrix2 = []\n",
    "    \n",
    "    # Input the first matrix (A)\n",
    "    print(\"Enter the elements of the first matrix (A) row by row:\")\n",
    "    for i in range(n):\n",
    "        row = list(map(int, input(f\"Row {i + 1}: \").split()))\n",
    "        if len(row) != m:\n",
    "            print(f\"Error: Row {i + 1} must have exactly {m} elements.\")\n",
    "            return\n",
    "        matrix1.append(row)\n",
    "    \n",
    "    # Input the second matrix (B)\n",
    "    print(\"Enter the elements of the second matrix (B) row by row:\")\n",
    "    for i in range(m):  # Note: number of rows for B is equal to number of columns for A\n",
    "        row = list(map(int, input(f\"Row {i + 1}: \").split()))\n",
    "        if len(row) != p:\n",
    "            print(f\"Error: Row {i + 1} must have exactly {p} elements.\")\n",
    "            return\n",
    "        matrix2.append(row)\n",
    "    \n",
    "    # Multiply the two matrices\n",
    "    result_matrix = multiply_matrices(matrix1, matrix2)\n",
    "    \n",
    "    # Print the resulting matrix\n",
    "    print(\"Resulting matrix after multiplication (A * B):\")\n",
    "    for row in result_matrix:\n",
    "        print(' '.join(map(str, row)))\n",
    "\n",
    "if __name__ == \"__main__\":\n",
    "    main()"
   ]
  },
  {
   "cell_type": "code",
   "execution_count": null,
   "id": "0c8941dd-55d8-4bb6-a167-170c62a6c85d",
   "metadata": {},
   "outputs": [],
   "source": []
  }
 ],
 "metadata": {
  "kernelspec": {
   "display_name": "Python 3 (ipykernel)",
   "language": "python",
   "name": "python3"
  },
  "language_info": {
   "codemirror_mode": {
    "name": "ipython",
    "version": 3
   },
   "file_extension": ".py",
   "mimetype": "text/x-python",
   "name": "python",
   "nbconvert_exporter": "python",
   "pygments_lexer": "ipython3",
   "version": "3.11.7"
  }
 },
 "nbformat": 4,
 "nbformat_minor": 5
}
